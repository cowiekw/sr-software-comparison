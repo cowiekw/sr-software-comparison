{
 "cells": [
  {
   "cell_type": "code",
   "execution_count": 5,
   "id": "aacb7ec0",
   "metadata": {},
   "outputs": [
    {
     "ename": "SyntaxError",
     "evalue": "invalid syntax (2635833428.py, line 1)",
     "output_type": "error",
     "traceback": [
      "\u001b[0;36m  Input \u001b[0;32mIn [5]\u001b[0;36m\u001b[0m\n\u001b[0;31m    jupyter kernelspec list\u001b[0m\n\u001b[0m            ^\u001b[0m\n\u001b[0;31mSyntaxError\u001b[0m\u001b[0;31m:\u001b[0m invalid syntax\n"
     ]
    }
   ],
   "source": [
    "jupyter kernelspec list "
   ]
  },
  {
   "cell_type": "code",
   "execution_count": null,
   "id": "4541b63a",
   "metadata": {},
   "outputs": [],
   "source": [
    "import pandas as pd\n",
    "import openpyxl\n",
    "import matplotlib"
   ]
  },
  {
   "cell_type": "code",
   "execution_count": null,
   "id": "39a35e08",
   "metadata": {},
   "outputs": [],
   "source": [
    "def sum_features_per_software(df, min_features):\n",
    "    counts = df.count(axis=1, numeric_only=True) # Count all nonmissing numeric feautures\n",
    "    sums = df.sum(axis=1, skipna=True, numeric_only=True, min_count=min_features)\n",
    "    df = df.assign(total_features=counts, number_of_features=sums) # Create new variables\n",
    "    df = df.assign(percent_of_features=(df['number_of_features']/df['total_features']))\n",
    "    df['percent_of_features'] = df['percent_of_features'].round(2) # Round percentages\n",
    "    return df"
   ]
  }
 ],
 "metadata": {
  "kernelspec": {
   "display_name": "Python 3 (ipykernel)",
   "language": "python",
   "name": "python3"
  },
  "language_info": {
   "codemirror_mode": {
    "name": "ipython",
    "version": 3
   },
   "file_extension": ".py",
   "mimetype": "text/x-python",
   "name": "python",
   "nbconvert_exporter": "python",
   "pygments_lexer": "ipython3",
   "version": "3.8.9"
  }
 },
 "nbformat": 4,
 "nbformat_minor": 5
}
